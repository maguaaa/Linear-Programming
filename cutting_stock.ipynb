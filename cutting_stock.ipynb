{
 "cells": [
  {
   "cell_type": "markdown",
   "metadata": {},
   "source": [
    "# E.X 7.4\n",
    "\n",
    "\\begin{align*}\n",
    "\\min~ &\\mathbf{e}'x\\\\\n",
    "&Ax-t=d\\\\\n",
    "&x,t\\geq 0,\n",
    "\\end{align*}\n",
    "where the columns of $A$ are cutting patterns, and $d$ is the demand vector.\n"
   ]
  },
  {
   "cell_type": "markdown",
   "metadata": {},
   "source": [
    "# How to modify our algorithm for the cutting-stock problem to account for the blade limitation.\n",
    "\n",
    "1. Modify the initialization of pattern\n",
    "- set the sum of pieces in each pattern less or equal to the number of blades plus 1\n",
    "2. Modify the IP\n",
    "- add a if-else statement to constrain the sum of each column in Pattern Array\n",
    "3. Assume there are only 2 blades, set $kb=2$, $kb$ is the number of blades "
   ]
  },
  {
   "cell_type": "code",
   "execution_count": 1,
   "metadata": {},
   "outputs": [],
   "source": [
    "%reset -f\n",
    "import numpy as np\n",
    "#%matplotlib notebook\n",
    "%matplotlib inline\n",
    "import matplotlib.pyplot as plt\n",
    "import seaborn as sns; sns.set(); sns.set_style(\"whitegrid\"); color_list = sns.color_palette(\"muted\") \n",
    "import gurobipy as gp\n",
    "from gurobipy import GRB\n",
    "\n",
    "class StopExecution(Exception):\n",
    "    def _render_traceback_(self):\n",
    "        pass"
   ]
  },
  {
   "cell_type": "code",
   "execution_count": 2,
   "metadata": {
    "scrolled": true
   },
   "outputs": [],
   "source": [
    "# set at least one of the following two parameters to 'True'\n",
    "# if both are set to 'True', then DP overwrites what IP calculates (but we can still compare)\n",
    "IP=True # set True for solution of knapsack problem by IP (i.e., Gurobi)\n",
    "DP=False # set True for solution of knapsack problem by DP\n",
    "results1=[]  \n",
    "results2=[] \n",
    "ITER=0"
   ]
  },
  {
   "cell_type": "code",
   "execution_count": 3,
   "metadata": {
    "scrolled": true
   },
   "outputs": [],
   "source": [
    "# Some toy data\n",
    "W=110\n",
    "m=5; M=range(m)\n",
    "Widths=np.array([70.0,40.0,55.0,25.0,35.0])\n",
    "Demands=np.array([205,2321,143,1089,117])"
   ]
  },
  {
   "cell_type": "code",
   "execution_count": 4,
   "metadata": {},
   "outputs": [],
   "source": [
    "#BLADE LIMITATION\n",
    "kb = 2"
   ]
  },
  {
   "cell_type": "code",
   "execution_count": 5,
   "metadata": {
    "scrolled": true
   },
   "outputs": [
    {
     "name": "stdout",
     "output_type": "stream",
     "text": [
      "Academic license - for non-commercial use only - expires 2022-09-03\n",
      "Using license file /Users/changli/gurobi.lic\n"
     ]
    }
   ],
   "source": [
    "# set up the Main LP model\n",
    "LP = gp.Model()\n",
    "LP.setParam('OutputFlag', 0)  #comment out to see more Gurobi output\n",
    "minsum = LP.setObjective(0, GRB.MINIMIZE)\n",
    "s=LP.addVars(m)\n",
    "for i in M:\n",
    "    LP.addConstr(-s[i] == Demands[i]) #s[i] is slack variable\n",
    "LP.update()\n",
    "demandconstraints=LP.getConstrs()\n",
    "# initialize with elementary patterns\n",
    "nPAT=0\n",
    "A = np.zeros((m,m))\n",
    "for i in M:\n",
    "    nPAT += 1\n",
    "    if np.floor(W/Widths[i]) <= kb+1: #BLADE LIMITATION\n",
    "        A[i,nPAT-1] = np.floor(W/Widths[i])\n",
    "    else:\n",
    "        A[i,nPAT-1] = kb + 1\n",
    "    newcol=gp.Column(A[:,i],demandconstraints)\n",
    "    LP.addVar(obj=1.0, column=newcol)\n",
    "LP.update()"
   ]
  },
  {
   "cell_type": "markdown",
   "metadata": {},
   "source": [
    "# The Knapsack model for generating an improving column\n",
    "\\begin{align*}\n",
    "\\max~ &\\sum_{i=1}^m \\bar{y}_i a_i\\\\\n",
    "&\\sum_{i=1}^m w_i a_i \\leq W\\\\\n",
    "&a_i \\geq 0 \\mbox{ and integer, for } i=1,\\ldots m.\n",
    "\\end{align*}"
   ]
  },
  {
   "cell_type": "code",
   "execution_count": 6,
   "metadata": {
    "scrolled": true
   },
   "outputs": [],
   "source": [
    "# set up for solving the knapsack subproblems: either by DP or IP (or both)\n",
    "#\n",
    "y=np.zeros(m)\n",
    "if IP==True:\n",
    "    # set up the Subproblem ILP knapsack model for Gurobi\n",
    "    Knap = gp.Model()\n",
    "    Knap.setParam('OutputFlag', 0)  #comment out to see more Gurobi output\n",
    "    a = Knap.addMVar(m,vtype=GRB.INTEGER)\n",
    "    knapsackobjective = Knap.setObjective(y@a, GRB.MAXIMIZE)\n",
    "    knapsackconstraint = Knap.addConstr(Widths@a <= W)\n",
    "if DP==True:\n",
    "    # DP for knapsack. Local notation: max c'x, s.t. a'x <= b, x>=0 int.\n",
    "    def Knapf(a,b,c):\n",
    "        m=np.size(a)\n",
    "        f=np.zeros(b+1)\n",
    "        i=-np.ones(b+1,dtype=int)\n",
    "        v=-np.Inf*np.ones(m)\n",
    "        for s in range(min(a),b+1): \n",
    "            for j in range(m):\n",
    "                if a[j]<=s: v[j]=c[j] + f[s-a[j]]\n",
    "                else: v[j]=-np.Inf \n",
    "            f[s]=max(v)\n",
    "            i[s]=np.argmax(v)   # save the index j where the max occured for that s\n",
    "        #\n",
    "        x=np.zeros(m)\n",
    "        s=b+0\n",
    "        while s>=min(a):\n",
    "            x[i[s]] += 1\n",
    "            s=s-a[i[s]]\n",
    "        return f[b], x"
   ]
  },
  {
   "cell_type": "code",
   "execution_count": 7,
   "metadata": {},
   "outputs": [],
   "source": [
    "# fancy output function \n",
    "def fancyoutput():  \n",
    "    plt.figure()\n",
    "    print(\"***** Patterns / Widths:\", Widths, \"Stock roll width:\", W)\n",
    "    Aw=np.zeros((m,nPAT))\n",
    "    for i in M:\n",
    "        for j in range(nPAT):\n",
    "            Aw[i,j]=A[i,j]*Widths[i]\n",
    "    Aw=np.c_[ Aw, np.zeros(m) ]    \n",
    "    wlist=[''] * m\n",
    "    for i in M:\n",
    "        wlist[i]='w'+str(i)\n",
    "    K=np.diagflat(Widths)\n",
    "    Bw=np.c_[Aw,K]\n",
    "    T = np.arange(Bw.shape[1])\n",
    "    for i in range(Bw.shape[0]):\n",
    "        plt.bar(T, Bw[i],\n",
    "        tick_label = np.concatenate((np.arange(nPAT),np.array([' ']),wlist)),\n",
    "        bottom = np.sum(Bw[:i], axis = 0),\n",
    "        color = color_list[i % len(color_list)])\n",
    "    plt.show()\n",
    "\n",
    "    print(\"***** A:\")\n",
    "    print(A)"
   ]
  },
  {
   "cell_type": "code",
   "execution_count": 8,
   "metadata": {
    "scrolled": false
   },
   "outputs": [
    {
     "name": "stdout",
     "output_type": "stream",
     "text": [
      " \n",
      "***** Solving LP...\n",
      "***** A:\n",
      "[[1. 0. 0. 0. 0.]\n",
      " [0. 2. 0. 0. 0.]\n",
      " [0. 0. 2. 0. 0.]\n",
      " [0. 0. 0. 3. 0.]\n",
      " [0. 0. 0. 0. 3.]]\n",
      "***** x:\n",
      "x[ 0 ]= 205.0\n",
      "x[ 1 ]= 1160.5\n",
      "x[ 2 ]= 71.5\n",
      "x[ 3 ]= 363.0\n",
      "x[ 4 ]= 39.0\n",
      "***** y': [1.     0.5    0.5    0.3333 0.3333]\n",
      " \n",
      "***** Solving Knapsack...\n",
      "***** Gurobi Knap objval: 1.5\n",
      "***** Column: [1. 1. 0. 0. 0.]\n",
      " \n",
      "***** Solving LP...\n",
      "***** A:\n",
      "[[1. 0. 0. 0. 0. 1.]\n",
      " [0. 2. 0. 0. 0. 1.]\n",
      " [0. 0. 2. 0. 0. 0.]\n",
      " [0. 0. 0. 3. 0. 0.]\n",
      " [0. 0. 0. 0. 3. 0.]]\n",
      "***** x:\n",
      "x[ 0 ]= 0.0\n",
      "x[ 1 ]= 1058.0\n",
      "x[ 2 ]= 71.5\n",
      "x[ 3 ]= 363.0\n",
      "x[ 4 ]= 39.0\n",
      "x[ 5 ]= 205.0\n",
      "***** y': [0.5    0.5    0.5    0.3333 0.3333]\n",
      " \n",
      "***** Solving Knapsack...\n",
      "***** Gurobi Knap objval: 1.3333333333333333\n",
      "***** Column: [0. 2. 0. 1. 0.]\n",
      " \n",
      "***** Solving LP...\n",
      "***** A:\n",
      "[[1. 0. 0. 0. 0. 1. 0.]\n",
      " [0. 2. 0. 0. 0. 1. 2.]\n",
      " [0. 0. 2. 0. 0. 0. 0.]\n",
      " [0. 0. 0. 3. 0. 0. 1.]\n",
      " [0. 0. 0. 0. 3. 0. 0.]]\n",
      "***** x:\n",
      "x[ 0 ]= 0.0\n",
      "x[ 1 ]= 0.0\n",
      "x[ 2 ]= 71.5\n",
      "x[ 3 ]= 10.3333\n",
      "x[ 4 ]= 39.0\n",
      "x[ 5 ]= 205.0\n",
      "x[ 6 ]= 1058.0\n",
      "***** y': [0.6667 0.3333 0.5    0.3333 0.3333]\n",
      " \n",
      "***** Solving Knapsack...\n",
      "***** Gurobi Knap objval: 1.3333333333333333\n",
      "***** Pattern generation complete. Main LP solved to optimality.\n",
      "***** Total number of patterns generated:  7\n",
      "***** A:\n",
      "[[1. 0. 0. 0. 0. 1. 0.]\n",
      " [0. 2. 0. 0. 0. 1. 2.]\n",
      " [0. 0. 2. 0. 0. 0. 0.]\n",
      " [0. 0. 0. 3. 0. 0. 1.]\n",
      " [0. 0. 0. 0. 3. 0. 0.]]\n",
      "***** x:\n",
      "x[ 0 ]= 0.0\n",
      "x[ 1 ]= 0.0\n",
      "x[ 2 ]= 71.5\n",
      "x[ 3 ]= 10.3333\n",
      "x[ 4 ]= 39.0\n",
      "x[ 5 ]= 205.0\n",
      "x[ 6 ]= 1058.0\n",
      "***** Optimal LP objective value: 1383.8333333333333\n",
      "***** rounds up to:  1384.0 (lower bound on rolls needed)\n",
      "***** x rounded up:\n",
      "x[ 0 ]= 0.0\n",
      "x[ 1 ]= 0.0\n",
      "x[ 2 ]= 72.0\n",
      "x[ 3 ]= 11.0\n",
      "x[ 4 ]= 39.0\n",
      "x[ 5 ]= 205.0\n",
      "x[ 6 ]= 1058.0\n",
      "***** Number of rolls used: 1385.0\n",
      "***** Patterns / Widths: [70. 40. 55. 25. 35.] Stock roll width: 110\n"
     ]
    },
    {
     "data": {
      "image/png": "[encoded data removed]",
      "text/plain": [
       "<Figure size 432x288 with 1 Axes>"
      ]
     },
     "metadata": {},
     "output_type": "display_data"
    },
    {
     "name": "stdout",
     "output_type": "stream",
     "text": [
      "***** A:\n",
      "[[1. 0. 0. 0. 0. 1. 0.]\n",
      " [0. 2. 0. 0. 0. 1. 2.]\n",
      " [0. 0. 2. 0. 0. 0. 0.]\n",
      " [0. 0. 0. 3. 0. 0. 1.]\n",
      " [0. 0. 0. 0. 3. 0. 0.]]\n"
     ]
    },
    {
     "data": {
      "image/png": "[encoded data removed]",
      "text/plain": [
       "<Figure size 720x720 with 1 Axes>"
      ]
     },
     "metadata": {},
     "output_type": "display_data"
    },
    {
     "name": "stdout",
     "output_type": "stream",
     "text": [
      "LP iter     LP val\n",
      "---------  ---------\n",
      "0           1839.0\n",
      "1           1736.5\n",
      "2           1383.8333\n",
      " \n"
     ]
    },
    {
     "name": "stderr",
     "output_type": "stream",
     "text": [
      "<ipython-input-8-15cbf44169e2>:82: DeprecationWarning: `np.int` is a deprecated alias for the builtin `int`. To silence this warning, use `int` by itself. Doing this will not modify any behavior and is safe. When replacing `np.int`, you may wish to use e.g. `np.int64` or `np.int32` to specify the precision. If you wish to review your current use, check the release note link for additional information.\n",
      "Deprecated in NumPy 1.20; for more details and guidance: https://numpy.org/devdocs/release/1.20.0-notes.html#deprecations\n",
      "  print(np.int(results1[j]), \"         \", np.round(results2[j],4))\n"
     ]
    }
   ],
   "source": [
    "while True:\n",
    "    print(\" \")\n",
    "    print(\"***** Solving LP...\")\n",
    "    ITER += 1\n",
    "    LP.optimize()\n",
    "    if LP.status != GRB.Status.OPTIMAL:\n",
    "        print(\"***** Gurobi solve status:\", LP.status)\n",
    "        print(\"***** This is a problem. LP does not have an optimal solution\")\n",
    "        raise StopExecution\n",
    "    results1=np.append(results1,ITER-1)\n",
    "    results2=np.append(results2,LP.Objval)\n",
    "    print(\"***** A:\")\n",
    "    print(A)\n",
    "    print(\"***** x:\")\n",
    "    x = LP.getVars()\n",
    "    for j in range(nPAT):\n",
    "         print(\"x[\",j,\"]=\",round(x[j+m].X,4))\n",
    "    for i in M:\n",
    "        y[i]=demandconstraints[i].Pi\n",
    "    print(\"***** y':\",np.round(y,4))\n",
    "    #\n",
    "    if IP==True:\n",
    "        knapsackobjective = Knap.setObjective(y@a, GRB.MAXIMIZE)\n",
    "        print(\" \")\n",
    "        print(\"***** Solving Knapsack...\")\n",
    "        Knap.optimize()\n",
    "        if Knap.status != GRB.Status.OPTIMAL:\n",
    "            print(\"***** Gurobi solve status:\", Knap.status)\n",
    "            print(\"***** This is a problem. Knapsack IP does not have an optimal solution\")\n",
    "            raise StopExecution\n",
    "        print(\"***** Gurobi Knap objval:\",Knap.Objval)\n",
    "        reducedcost = 1.0-Knap.Objval\n",
    "        if a.X.sum() <= kb+1: # BLADE LIMITATION\n",
    "            pattern=a.X+np.zeros(m)\n",
    "        else:\n",
    "            break\n",
    "    #\n",
    "    if DP==True: \n",
    "        results = Knapf(Widths.astype(int),W,y)\n",
    "        print(\"***** DP Knap objval:    \",results[0])\n",
    "        reducedcost = 1.0-results[0]\n",
    "            # BLADE LIMITATION\n",
    "        pattern=results[1]\n",
    "    #\n",
    "    if reducedcost < -0.0001:\n",
    "        print(\"***** Column:\",pattern)\n",
    "        A=np.c_[ A, pattern ]\n",
    "            # BLADE LIMITATION\n",
    "        nPAT += 1\n",
    "        newcol=gp.Column(pattern,demandconstraints)\n",
    "        LP.addVar(obj=1.0, column=newcol)\n",
    "    else:\n",
    "        print(\"***** No more improving columns\")\n",
    "        break\n",
    "    \n",
    "print(\"***** Pattern generation complete. Main LP solved to optimality.\")\n",
    "print(\"***** Total number of patterns generated: \", nPAT)\n",
    "print(\"***** A:\")\n",
    "print(A)\n",
    "print(\"***** x:\")\n",
    "x = LP.getVars()\n",
    "for j in range(nPAT):\n",
    "    print(\"x[\",j,\"]=\",round(x[j+m].X,4))\n",
    "print(\"***** Optimal LP objective value:\", LP.Objval)\n",
    "print(\"***** rounds up to: \", np.ceil(LP.Objval), \"(lower bound on rolls needed)\")\n",
    "print(\"***** x rounded up:\")\n",
    "for j in range(nPAT):\n",
    "    print(\"x[\",j,\"]=\",np.ceil(x[j+m].X))\n",
    "print(\"***** Number of rolls used:\", sum(np.ceil(x[j+m].X) for j in range(nPAT)))\n",
    "fancyoutput()\n",
    "fig, ax = plt.subplots(figsize=(10, 10))\n",
    "ax.plot(results1[0:ITER], results2[0:ITER])\n",
    "ax.plot(results1, np.ceil(LP.Objval)*np.ones(ITER))\n",
    "ax.plot(results1, sum(np.ceil(x[j+m].X) for j in range(nPAT))*np.ones(ITER))\n",
    "ax.set(xlabel='LP iteration', ylabel='LP objective value')\n",
    "ax.set_xticks(ticks=results1, minor=False)\n",
    "ax.grid()\n",
    "plt.show()\n",
    "print(\"LP iter\", \"    LP val\")\n",
    "print(\"---------  ---------\")\n",
    "for j in range(ITER):\n",
    "    print(np.int(results1[j]), \"         \", np.round(results2[j],4))\n",
    "print(\" \")"
   ]
  },
  {
   "cell_type": "code",
   "execution_count": 9,
   "metadata": {},
   "outputs": [
    {
     "name": "stdout",
     "output_type": "stream",
     "text": [
      " \n",
      "***** Now solve the ILP over all patterns generated to try and get a better soution...\n",
      "***** x:\n",
      "x[ 0 ]= 0.0\n",
      "x[ 1 ]= 0.0\n",
      "x[ 2 ]= 72.0\n",
      "x[ 3 ]= 11.0\n",
      "x[ 4 ]= 39.0\n",
      "x[ 5 ]= 205.0\n",
      "x[ 6 ]= 1058.0\n",
      "***** Number of rolls used: 1385.0\n",
      "***** Patterns / Widths: [70. 40. 55. 25. 35.] Stock roll width: 110\n"
     ]
    },
    {
     "data": {
      "image/png": "[encoded data removed]",
      "text/plain": [
       "<Figure size 432x288 with 1 Axes>"
      ]
     },
     "metadata": {},
     "output_type": "display_data"
    },
    {
     "name": "stdout",
     "output_type": "stream",
     "text": [
      "***** A:\n",
      "[[1. 0. 0. 0. 0. 1. 0.]\n",
      " [0. 2. 0. 0. 0. 1. 2.]\n",
      " [0. 0. 2. 0. 0. 0. 0.]\n",
      " [0. 0. 0. 3. 0. 0. 1.]\n",
      " [0. 0. 0. 0. 3. 0. 0.]]\n"
     ]
    }
   ],
   "source": [
    "print(\" \")\n",
    "print(\"***** Now solve the ILP over all patterns generated to try and get a better soution...\")\n",
    "for var in LP.getVars():\n",
    "    var.vtype=GRB.INTEGER\n",
    "LP.optimize()\n",
    "if LP.status != GRB.Status.OPTIMAL:\n",
    "    print(\"***** Gurobi solve status:\", LP.status)\n",
    "    print(\"***** This is a problem. Hit enter to continue\")\n",
    "    input()\n",
    "print(\"***** x:\")\n",
    "for j in range(nPAT):\n",
    "    print(\"x[\",j,\"]=\",round(x[j+m].X+0,4))\n",
    "print(\"***** Number of rolls used:\", sum(np.ceil(x[j+m].X) for j in range(nPAT)))\n",
    "fancyoutput()"
   ]
  }
 ],
 "metadata": {
  "kernelspec": {
   "display_name": "Python 3",
   "language": "python",
   "name": "python3"
  },
  "language_info": {
   "codemirror_mode": {
    "name": "ipython",
    "version": 3
   },
   "file_extension": ".py",
   "mimetype": "text/x-python",
   "name": "python",
   "nbconvert_exporter": "python",
   "pygments_lexer": "ipython3",
   "version": "3.8.8"
  },
  "toc": {
   "base_numbering": 1,
   "nav_menu": {},
   "number_sections": true,
   "sideBar": true,
   "skip_h1_title": false,
   "title_cell": "Table of Contents",
   "title_sidebar": "Contents",
   "toc_cell": false,
   "toc_position": {
    "height": "calc(100% - 180px)",
    "left": "10px",
    "top": "150px",
    "width": "460.594px"
   },
   "toc_section_display": true,
   "toc_window_display": true
  }
 },
 "nbformat": 4,
 "nbformat_minor": 4
}
