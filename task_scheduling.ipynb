{
 "cells": [
  {
   "cell_type": "markdown",
   "metadata": {},
   "source": [
    "# Ex 2.5\n",
    "\n",
    "## Model Formulation\n",
    "\n",
    "\\begin{align*}\n",
    "\\min~& t_{n+1};\\\\\n",
    "& t_i - t_h \\geq d_{h}\\quad\\forall h \\in \\psi_{i};\\\\\n",
    "\\\\\n",
    "& t_{i}>0 \\quad\\forall i=1,\\ldots,n+1;\\\\ \n",
    "& t_0 =0;\\\\\n",
    "& d_i >0\\quad \\forall i=1,\\ldots,n;\\\\\n",
    "& d_0=0, d_n+1=0.\\\\\n",
    "\\end{align*} \n",
    "\n",
    "- $\\psi_{i}$ : the set of precedences of $task_{i}$\n",
    "- $t_{i}$ : the start time of $task_{i}$\n",
    "- $d_{i}$ : the duration of $task_{i}$\n"
   ]
  },
  {
   "cell_type": "markdown",
   "metadata": {},
   "source": [
    "# <span style=\"color:red\">A</span>"
   ]
  },
  {
   "cell_type": "code",
   "execution_count": 1,
   "metadata": {},
   "outputs": [],
   "source": [
    "%reset -f\n",
    "import itertools\n",
    "import numpy as np\n",
    "#%matplotlib notebook\n",
    "%matplotlib inline\n",
    "import matplotlib.pyplot as plt\n",
    "import gurobipy as gp\n",
    "from gurobipy import GRB\n",
    "\n",
    "class StopExecution(Exception):\n",
    "    def _render_traceback_(self):\n",
    "        pass"
   ]
  },
  {
   "cell_type": "code",
   "execution_count": 2,
   "metadata": {},
   "outputs": [],
   "source": [
    "solveLPOnly=True "
   ]
  },
  {
   "cell_type": "markdown",
   "metadata": {},
   "source": [
    "## Parameters\n",
    "\n",
    "- Set 7 tasks including the start and the end tasks\n",
    "- Each duration are depicted in $d$ \n",
    "- $Psi$ represents the set of precedences of each task"
   ]
  },
  {
   "cell_type": "code",
   "execution_count": 3,
   "metadata": {},
   "outputs": [],
   "source": [
    "d=[0, 3, 2, 1, 2, 3, 0] # the duration of each task"
   ]
  },
  {
   "cell_type": "code",
   "execution_count": 4,
   "metadata": {
    "scrolled": true
   },
   "outputs": [
    {
     "name": "stdout",
     "output_type": "stream",
     "text": [
      "[0. 0. 0. 0. 0. 0. 1.]\n"
     ]
    }
   ],
   "source": [
    "c=np.array([])\n",
    "for i in range(len(d)):\n",
    "    c = np.append(c, [0]) if i != len(d)-1 else np.append(c, [1])\n",
    "print(c)"
   ]
  },
  {
   "cell_type": "markdown",
   "metadata": {},
   "source": [
    "c = np.array([0,0,0,0,0,0,1])"
   ]
  },
  {
   "cell_type": "code",
   "execution_count": 5,
   "metadata": {},
   "outputs": [],
   "source": [
    "n=len(d)-2 # the number of tasks but dummy task"
   ]
  },
  {
   "cell_type": "code",
   "execution_count": 6,
   "metadata": {},
   "outputs": [],
   "source": [
    "# the set of precedences of task i \n",
    "Psi={\n",
    "# task i : [precedence h, l ...]\n",
    "    0:[0],\n",
    "    1:[0],\n",
    "    2:[0],\n",
    "    3:[0],\n",
    "    4:[1,2],\n",
    "    5:[3],\n",
    "    6:[4,5]\n",
    "}"
   ]
  },
  {
   "cell_type": "markdown",
   "metadata": {},
   "source": [
    "## Objective"
   ]
  },
  {
   "cell_type": "code",
   "execution_count": 7,
   "metadata": {
    "scrolled": true
   },
   "outputs": [
    {
     "name": "stdout",
     "output_type": "stream",
     "text": [
      "Academic license - for non-commercial use only - expires 2022-09-03\n",
      "Using license file /Users/changli/gurobi.lic\n",
      "Discarded solution information\n"
     ]
    }
   ],
   "source": [
    "model = gp.Model()\n",
    "model.reset()\n",
    "x = model.addVars(len(d))\n",
    "\n",
    "model.setObjective(sum(c[j]*x[j] for j in range(0,n+2)), GRB.MINIMIZE)\n",
    "\n",
    "model.update()"
   ]
  },
  {
   "cell_type": "markdown",
   "metadata": {},
   "source": [
    "## Constraints"
   ]
  },
  {
   "cell_type": "code",
   "execution_count": 8,
   "metadata": {},
   "outputs": [],
   "source": [
    "for i in range(0,n+2):\n",
    "    model.addConstrs((x[i] - x[h]) >= d[h] for h in Psi[i])"
   ]
  },
  {
   "cell_type": "markdown",
   "metadata": {},
   "source": [
    "## Result"
   ]
  },
  {
   "cell_type": "code",
   "execution_count": 9,
   "metadata": {},
   "outputs": [
    {
     "name": "stdout",
     "output_type": "stream",
     "text": [
      "Gurobi Optimizer version 9.1.2 build v9.1.2rc0 (mac64)\n",
      "Thread count: 8 physical cores, 8 logical processors, using up to 8 threads\n",
      "Optimize a model with 9 rows, 7 columns and 16 nonzeros\n",
      "Model fingerprint: 0x99469bb2\n",
      "Coefficient statistics:\n",
      "  Matrix range     [1e+00, 1e+00]\n",
      "  Objective range  [1e+00, 1e+00]\n",
      "  Bounds range     [0e+00, 0e+00]\n",
      "  RHS range        [1e+00, 3e+00]\n",
      "Presolve removed 9 rows and 7 columns\n",
      "Presolve time: 0.00s\n",
      "Presolve: All rows and columns removed\n",
      "Iteration    Objective       Primal Inf.    Dual Inf.      Time\n",
      "       0    5.0000000e+00   0.000000e+00   0.000000e+00      0s\n",
      "\n",
      "Solved in 0 iterations and 0.00 seconds\n",
      "Optimal objective  5.000000000e+00\n"
     ]
    }
   ],
   "source": [
    "model.optimize()\n",
    "if model.status != GRB.Status.OPTIMAL:\n",
    "    print(\"***** Gurobi solve status:\", model.status)\n",
    "    print(\"***** This is a problem. Model does not have an optimal solution\")\n",
    "    raise StopExecution"
   ]
  },
  {
   "cell_type": "code",
   "execution_count": 10,
   "metadata": {
    "scrolled": true
   },
   "outputs": [
    {
     "name": "stdout",
     "output_type": "stream",
     "text": [
      "*********Solution*********\n",
      "minimum t_{n+1} is 5\n"
     ]
    }
   ],
   "source": [
    "print(\"*********Solution*********\")\n",
    "print('minimum t_{n+1} is', round(model.X[n+1]))"
   ]
  }
 ],
 "metadata": {
  "kernelspec": {
   "display_name": "Python 3",
   "language": "python",
   "name": "python3"
  },
  "language_info": {
   "codemirror_mode": {
    "name": "ipython",
    "version": 3
   },
   "file_extension": ".py",
   "mimetype": "text/x-python",
   "name": "python",
   "nbconvert_exporter": "python",
   "pygments_lexer": "ipython3",
   "version": "3.6.10"
  },
  "varInspector": {
   "cols": {
    "lenName": 16,
    "lenType": 16,
    "lenVar": 40
   },
   "kernels_config": {
    "python": {
     "delete_cmd_postfix": "",
     "delete_cmd_prefix": "del ",
     "library": "var_list.py",
     "varRefreshCmd": "print(var_dic_list())"
    },
    "r": {
     "delete_cmd_postfix": ") ",
     "delete_cmd_prefix": "rm(",
     "library": "var_list.r",
     "varRefreshCmd": "cat(var_dic_list()) "
    }
   },
   "types_to_exclude": [
    "module",
    "function",
    "builtin_function_or_method",
    "instance",
    "_Feature"
   ],
   "window_display": false
  }
 },
 "nbformat": 4,
 "nbformat_minor": 5
}
