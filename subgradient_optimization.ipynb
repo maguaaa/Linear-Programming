{
 "cells": [
  {
   "cell_type": "markdown",
   "metadata": {},
   "source": [
    "# E.x 7.3"
   ]
  },
  {
   "cell_type": "markdown",
   "metadata": {},
   "source": [
    "## Description\n",
    "\n",
    "Set step size $\\lambda_i=\\frac{s}{\\sqrt{k}}$.\n",
    "\n",
    "The optimal objective value is -36.16.\n",
    "\n",
    "- Round 1: guess $s=1$. The best lower bound we get in the 100th iteration is -78. \n",
    "\n",
    "- Round 2: guess $s=2$. The best lower bound we get in the 100th iteration is -46. \n",
    "\n",
    "- Round 3: guess $s=5$. The best lower bound we get in the 100th iteration is -38, which is very close to the optimal value.\n",
    "\n",
    "- Round 4: guess $s=10$. The best lower bound we get in the 100th iteration is -36.16, which is almost euqal to the optimal value.\n",
    "\n",
    "- Round 5: choose a rather wild constant, i.e., guess $s=100$. The LP can converge within 10 steps.\n",
    "\n",
    "\n",
    "## Conclusion\n",
    "If choose step size as $\\frac{s}{\\sqrt{k}}$, the bigger constant $s$ is, the faster the LP converges.\n"
   ]
  },
  {
   "cell_type": "code",
   "execution_count": 1,
   "metadata": {},
   "outputs": [],
   "source": [
    "%reset -f\n",
    "import numpy as np\n",
    "#%matplotlib notebook\n",
    "%matplotlib inline\n",
    "import matplotlib.pyplot as plt\n",
    "import gurobipy as gp\n",
    "from gurobipy import GRB\n",
    "\n",
    "class StopExecution(Exception):\n",
    "    def _render_traceback_(self):\n",
    "        pass"
   ]
  },
  {
   "cell_type": "code",
   "execution_count": 2,
   "metadata": {},
   "outputs": [],
   "source": [
    "MAXIT = 100\n",
    "HarmonicStepSize = True       # If you choose False, then you have to guess a 'target value'\n",
    "GUESS = -5.6                   #   but don't guess a target value higher than z!!!!\n",
    "SmartInitialization = True     # Set 'False' to initialize with y=0.\n",
    "\n",
    "# generate a random example\n",
    "n = 100   # number of variables\n",
    "m1 = 2000  # number of equations to relax\n",
    "m2 = 500  # number of equations to keep\n",
    "np.random.seed(25)   # change the seed for a differemt example \n",
    "E=0.01*np.random.randint(-5,high=5,size=(m1,n)).astype(float) #np.random.randn(m1,nt)\n",
    "A=0.01*np.random.randint(-2,high=3,size=(m2,n)).astype(float) #np.random.randn(m2,nt)\n",
    "\n",
    "# choose the right-hand sides so that Q will be feasible\n",
    "xfeas=0.1*np.random.randint(0,high=5,size=n).astype(float)\n",
    "h=E.dot(xfeas) - 0.1*np.random.randint(0,high=10,size=m1).astype(float)      \n",
    "b=A.dot(xfeas)\n",
    "\n",
    "# choose the objective function so that the dual of Q will be feasible\n",
    "yfeas=0.1*np.random.randint(0,high=5,size=m1).astype(float)\n",
    "pifeas=0.1*np.random.randint(-5,high=5,size=m2).astype(float)\n",
    "c=np.transpose(E)@yfeas + np.transpose(A)@pifeas +  0.1*np.random.randint(0,high=1,size=n).astype(float)   "
   ]
  },
  {
   "cell_type": "code",
   "execution_count": 3,
   "metadata": {},
   "outputs": [
    {
     "name": "stdout",
     "output_type": "stream",
     "text": [
      "Academic license - for non-commercial use only - expires 2022-09-03\n",
      "Using license file /Users/changli/gurobi.lic\n",
      "Discarded solution information\n",
      "Gurobi Optimizer version 9.1.2 build v9.1.2rc0 (mac64)\n",
      "Thread count: 8 physical cores, 8 logical processors, using up to 8 threads\n",
      "Optimize a model with 2500 rows, 100 columns and 220069 nonzeros\n",
      "Model fingerprint: 0x5aec23d5\n",
      "Coefficient statistics:\n",
      "  Matrix range     [1e-02, 5e-02]\n",
      "  Objective range  [1e+00, 3e+00]\n",
      "  Bounds range     [0e+00, 0e+00]\n",
      "  RHS range        [9e-19, 1e+00]\n",
      "Presolve time: 0.04s\n",
      "Presolved: 2500 rows, 100 columns, 220069 nonzeros\n",
      "\n",
      "Iteration    Objective       Primal Inf.    Dual Inf.      Time\n",
      "       0   -3.9112000e+32   1.786304e+34   3.911200e+02      0s\n",
      "     151   -3.6159700e+01   0.000000e+00   0.000000e+00      0s\n",
      "\n",
      "Solved in 151 iterations and 0.11 seconds\n",
      "Optimal objective -3.615970000e+01\n"
     ]
    }
   ],
   "source": [
    "# solve the problem as one big LP --- for comparison purposes\n",
    "modelQ = gp.Model()\n",
    "modelQ.reset()\n",
    "x = modelQ.addMVar(n)  \n",
    "objective = modelQ.setObjective(c@x, GRB.MINIMIZE)\n",
    "constraintsQ1 = modelQ.addConstr(E@x >= h)\n",
    "constraintsQ2 = modelQ.addConstr(A@x == b)\n",
    "modelQ.optimize()\n",
    "if modelQ.status != GRB.Status.OPTIMAL:\n",
    "    print(\"***** Gurobi solve status:\", modelQ.status)\n",
    "    print(\"***** This is a problem. Model Q does not have an optimal solution\")\n",
    "    raise StopExecution"
   ]
  },
  {
   "cell_type": "code",
   "execution_count": 4,
   "metadata": {},
   "outputs": [
    {
     "name": "stdout",
     "output_type": "stream",
     "text": [
      "Discarded solution information\n",
      "Gurobi Optimizer version 9.1.2 build v9.1.2rc0 (mac64)\n",
      "Thread count: 8 physical cores, 8 logical processors, using up to 8 threads\n",
      "Optimize a model with 100 rows, 2000 columns and 180044 nonzeros\n",
      "Model fingerprint: 0xff139c72\n",
      "Coefficient statistics:\n",
      "  Matrix range     [1e-02, 5e-02]\n",
      "  Objective range  [0e+00, 0e+00]\n",
      "  Bounds range     [0e+00, 0e+00]\n",
      "  RHS range        [1e+00, 3e+00]\n",
      "\n",
      "Concurrent LP optimizer: primal simplex, dual simplex, and barrier\n",
      "Showing barrier log only...\n",
      "\n",
      "Presolve time: 0.04s\n",
      "Presolved: 100 rows, 2000 columns, 180044 nonzeros\n",
      "\n",
      "Ordering time: 0.00s\n",
      "\n",
      "Barrier statistics:\n",
      " AA' NZ     : 4.950e+03\n",
      " Factor NZ  : 5.050e+03 (roughly 1 MByte of memory)\n",
      " Factor Ops : 3.384e+05 (less than 1 second per iteration)\n",
      " Threads    : 6\n",
      "\n",
      "Barrier performed 0 iterations in 0.08 seconds\n",
      "Barrier solve interrupted - model solved by another algorithm\n",
      "\n",
      "\n",
      "Solved with primal simplex\n",
      "Solved in 57 iterations and 0.09 seconds\n",
      "Optimal objective  0.000000000e+00\n",
      "Discarded solution information\n"
     ]
    }
   ],
   "source": [
    "# 'SmartInitialization' chooses the initial y so that the dual of the Lagrangian Subproblem has (pi=0 as) \n",
    "# a feasible solution, thus making sure that the initial Lagrangian Subproblem is not unbounded.\n",
    "if SmartInitialization:\n",
    "    modelY = gp.Model()\n",
    "    modelY.reset()\n",
    "    yvar = modelY.addMVar(m1)  \n",
    "    constraintsY = modelY.addConstr(np.transpose(E)@yvar <= c)\n",
    "    modelY.optimize()\n",
    "    y=yvar.X\n",
    "else: y=np.zeros(m1)\n",
    "\n",
    "# initialization \n",
    "k=1\n",
    "bestlb = -np.Inf\n",
    "\n",
    "# set up the Lagrangian relaxation\n",
    "modelL = gp.Model()\n",
    "modelL.reset()\n",
    "modelL.setParam('OutputFlag', 0)   # quiet the Gurobi output \n",
    "x = modelL.addMVar(n)  \n",
    "constraintsL = modelL.addConstr(A@x == b)\n",
    "objective = modelL.setObjective((c-y.dot(E))@x, GRB.MINIMIZE)\n",
    "\n",
    "modelL.optimize()\n",
    "if modelL.status != GRB.Status.OPTIMAL:\n",
    "    print(\"***** Gurobi solve status:\", modelL.status)\n",
    "    print(\"***** This is a problem. Lagrangian Subproblem is unbounded.\")\n",
    "    print(\"***** The algorithm cannot work with this starting y.\")\n",
    "    raise StopExecution\n",
    "v = y.dot(h) + modelL.Objval\n",
    "results1=[0]\n",
    "results2=[v]\n",
    "bestlb = v"
   ]
  },
  {
   "cell_type": "code",
   "execution_count": 5,
   "metadata": {},
   "outputs": [
    {
     "name": "stdout",
     "output_type": "stream",
     "text": [
      "***** z: -36.15970000000003\n",
      "***** first lower bound: -183.2378071287958\n",
      "***** best lower bound: -36.60343929910567\n"
     ]
    }
   ],
   "source": [
    "while k < MAXIT:\n",
    "    k += 1\n",
    "    g = h - E.dot(x.X)\n",
    "    if HarmonicStepSize:\n",
    "        stepsize = 10/(k**.5)            # This one converges in theory, but it is slow.\n",
    "    else:                          # Instead, you can make a GUESS at the max\n",
    "        stepsize = (GUESS - v)/(g@g)   # and then use this 'Polyak' stepsize\n",
    "    y = np.maximum(y + stepsize*g, np.zeros(m1))   # The projection keeps y>=0. \n",
    "    objective = modelL.setObjective((c-y.dot(E))@x, GRB.MINIMIZE)\n",
    "    modelL.optimize()\n",
    "    if modelL.status != GRB.Status.OPTIMAL:\n",
    "        k -= 1\n",
    "        print(\"***** Gurobi solve status:\", GRB.OPTIMAL)\n",
    "        print(\"***** This is a problem. Lagrangian Subproblem is unbounded.\")\n",
    "        print(\"***** The algorithm cannot continue after k =\",k)\n",
    "        break\n",
    "    v = y.dot(h) + modelL.Objval\n",
    "    bestlb = np.max((bestlb,v))\n",
    "    results1=np.append(results1,k-1)\n",
    "    results2=np.append(results2,v)\n",
    " \n",
    "print(\"***** z:\", modelQ.Objval)\n",
    "print(\"***** first lower bound:\", results2[0])\n",
    "print(\"***** best lower bound:\", bestlb)"
   ]
  },
  {
   "cell_type": "code",
   "execution_count": 6,
   "metadata": {
    "scrolled": true
   },
   "outputs": [
    {
     "data": {
      "image/png": "[encoded data removed]",
      "text/plain": [
       "<Figure size 720x720 with 1 Axes>"
      ]
     },
     "metadata": {
      "needs_background": "light"
     },
     "output_type": "display_data"
    }
   ],
   "source": [
    "if k > 1:\n",
    "    fig, ax = plt.subplots(figsize=(10,10))\n",
    "    ax.plot(results1, results2)\n",
    "    ax.plot(results1, modelQ.Objval*np.ones(k))\n",
    "    ax.set(xlabel='iteration', ylabel='v(y)')\n",
    "    ax.grid()\n",
    "    plt.show()"
   ]
  }
 ],
 "metadata": {
  "kernelspec": {
   "display_name": "Python 3",
   "language": "python",
   "name": "python3"
  },
  "language_info": {
   "codemirror_mode": {
    "name": "ipython",
    "version": 3
   },
   "file_extension": ".py",
   "mimetype": "text/x-python",
   "name": "python",
   "nbconvert_exporter": "python",
   "pygments_lexer": "ipython3",
   "version": "3.8.8"
  }
 },
 "nbformat": 4,
 "nbformat_minor": 4
}
