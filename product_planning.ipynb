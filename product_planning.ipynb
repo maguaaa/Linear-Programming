{
 "cells": [
  {
   "cell_type": "markdown",
   "id": "8f2bae22",
   "metadata": {},
   "source": [
    "# A"
   ]
  },
  {
   "cell_type": "markdown",
   "id": "464e3cb5",
   "metadata": {},
   "source": [
    "# Ex 2.4\n",
    "\n",
    "- Decision Variables $x_{ij}$: the amount of ingredient $i$ used to produce each product $j$\n",
    "\n",
    "- Revenue $= \\sum_{j=1}^{n}\\sum_{i=1}^{m}x_{ij}e_j$\n",
    "\n",
    "- Cost $= \\sum_{i=1}^{m}\\sum_{j=1}^{n}x_{ij}c_i$\n",
    "\n",
    "- Net Profit $= Revenue - Cost$\n",
    "\n",
    "## Module Formulation\n",
    "\n",
    "\\begin{align*}\n",
    "& \\max \\sum_{j=1}^{n}\\sum_{i=1}^{m}x_{ij}e_j - \\sum_{i=1}^{m}\\sum_{j=1}^{n}x_{ij}c_i;\\\\\n",
    "\\\\\n",
    "& \\sum_{j=1}^{n}x_{ij} \\leq b_i,\\\\\n",
    "& \\sum_{i=1}^{m}x_{ij} \\geq d_i,\\\\\n",
    "& 0 \\leq l_{ij} \\leq \\frac{x_{ij}}{\\sum_{i=1}^{m}x_{ij}} \\leq u_{ij} \\leq 1,\\\\\n",
    "\\\\\n",
    "& x_{ij} \\geq 0, b_i \\geq 0, c_i \\geq 0, d_i \\geq 0,\\\\\n",
    "& \\forall i = 1,\\ldots,m,\\quad j=1,\\ldots,n.\\\\\n",
    "\\end{align*}"
   ]
  },
  {
   "cell_type": "code",
   "execution_count": 1,
   "id": "e38092d0",
   "metadata": {},
   "outputs": [],
   "source": [
    "%reset -f\n",
    "import numpy as np\n",
    "import gurobipy as gp\n",
    "from gurobipy import GRB\n",
    "from gurobipy import quicksum\n",
    "\n",
    "class StopExecution(Exception):\n",
    "    def _render_traceback_(self):\n",
    "        pass"
   ]
  },
  {
   "cell_type": "markdown",
   "id": "9b06f5f6",
   "metadata": {},
   "source": [
    "## Input Data"
   ]
  },
  {
   "cell_type": "code",
   "execution_count": 2,
   "id": "2372c81b",
   "metadata": {},
   "outputs": [],
   "source": [
    "\n",
    "b = np.array([1600, 2100, 1100]) # availabilities of each ingredient\n",
    "c = np.array([6.4, 4.6, 2.7]) # cost of per kilo ingredient\n",
    "l = np.array([[0.2,0.1,0],[0.5,0.1,0.3],[0.1,0.7,0.3]]) # lower bounds of each ingredient in a product\n",
    "u = np.array([[0.5,0.2,0.3],[0.6,0.3,0.4],[0.2,0.8,0.5]]) # upper bounds of each ingredient in a product\n",
    "e = np.array([5.7, 5.2, 4.3]) # revenue of per kilo product\n",
    "d = np.array([200, 1000, 500]) # minimum production demand\n"
   ]
  },
  {
   "cell_type": "code",
   "execution_count": 3,
   "id": "21489368",
   "metadata": {},
   "outputs": [
    {
     "name": "stdout",
     "output_type": "stream",
     "text": [
      "3 3\n"
     ]
    }
   ],
   "source": [
    "M = l.shape[0]\n",
    "N = l.shape[1]\n",
    "print(M, N)"
   ]
  },
  {
   "cell_type": "code",
   "execution_count": 4,
   "id": "dbf01252",
   "metadata": {
    "scrolled": true
   },
   "outputs": [
    {
     "name": "stdout",
     "output_type": "stream",
     "text": [
      "Academic license - for non-commercial use only - expires 2022-09-03\n",
      "Using license file /Users/changli/gurobi.lic\n",
      "Discarded solution information\n"
     ]
    }
   ],
   "source": [
    "model = gp.Model()\n",
    "model.reset()\n",
    "x = model.addVars(M, N, lb=0.0) # the amount of each ingredient in a product\n",
    "\n",
    "netprofitobjecttive = model.setObjective( (sum(x[i,j]*e[j] for i in range(0,M) for j in range(0,N)))\n",
    "                                         -(sum(x[i,j]*c[i] for j in range(0,N) for i in range(0,M))), GRB.MAXIMIZE) "
   ]
  },
  {
   "cell_type": "markdown",
   "id": "67fa66cb",
   "metadata": {},
   "source": [
    "## Constraints"
   ]
  },
  {
   "cell_type": "code",
   "execution_count": 5,
   "id": "2b1c803d",
   "metadata": {},
   "outputs": [],
   "source": [
    "# usage shall not exceed avalibility\n",
    "for i in range(0, M):\n",
    "    model.addConstr(quicksum(x[i,j] for j in range(0,N)) <= b[i], name='i'+str(i) )\n",
    "\n",
    "# lower bounds of proportion\n",
    "for j in range(0, N):\n",
    "    for i in range(0, M):\n",
    "        model.addConstr(x[i,j] >= quicksum(x[i,j] for i in range(0,M))*l[i,j] , name='l'+str(i)+str(j))\n",
    "\n",
    "# upper bounds of proportion\n",
    "for j in range(0, N):\n",
    "    for i in range(0, M):\n",
    "        model.addConstr(x[i,j] <= quicksum(x[i,j] for i in range(0,M))*u[i,j] , name='u'+str(i)+str(j))\n",
    "        \n",
    "# minimum production demand\n",
    "for j in range(0, N):\n",
    "    model.addConstr( quicksum(x[i,j] for i in range(0,M)) >=  d[j], name='d'+str(j))\n",
    "\n",
    "# overall weight of products shall not exceed that of ingredients\n",
    "model.addConstr(quicksum(x[i,j] for i in range(0,M) for j in range(0,N)) <= quicksum(b[i] for i in range(0,M)), name='p')\n",
    "\n",
    "model.update()\n",
    "\n"
   ]
  },
  {
   "cell_type": "markdown",
   "id": "933eda37",
   "metadata": {},
   "source": [
    "## Results"
   ]
  },
  {
   "cell_type": "code",
   "execution_count": 6,
   "id": "8e67e122",
   "metadata": {
    "scrolled": true
   },
   "outputs": [
    {
     "name": "stdout",
     "output_type": "stream",
     "text": [
      "Gurobi Optimizer version 9.1.2 build v9.1.2rc0 (mac64)\n",
      "Thread count: 8 physical cores, 8 logical processors, using up to 8 threads\n",
      "Optimize a model with 25 rows, 9 columns and 79 nonzeros\n",
      "Model fingerprint: 0x81ca4bb5\n",
      "Coefficient statistics:\n",
      "  Matrix range     [1e-01, 1e+00]\n",
      "  Objective range  [3e-01, 3e+00]\n",
      "  Bounds range     [0e+00, 0e+00]\n",
      "  RHS range        [2e+02, 5e+03]\n",
      "Presolve removed 1 rows and 0 columns\n",
      "Presolve time: 0.00s\n",
      "Presolved: 24 rows, 9 columns, 78 nonzeros\n",
      "\n",
      "Iteration    Objective       Primal Inf.    Dual Inf.      Time\n",
      "       0    5.1100000e+03   7.810713e+02   0.000000e+00      0s\n",
      "       8    3.4900000e+03   0.000000e+00   0.000000e+00      0s\n",
      "\n",
      "Solved in 8 iterations and 0.01 seconds\n",
      "Optimal objective  3.490000000e+03\n"
     ]
    }
   ],
   "source": [
    "model.optimize()\n",
    "if model.status != GRB.Status.OPTIMAL:\n",
    "    print(\"***** Gurobi solve status:\", model.status)\n",
    "    print(\"***** This is a problem. Model does not have an optimal solution\")\n",
    "    raise StopExecution"
   ]
  },
  {
   "cell_type": "code",
   "execution_count": 7,
   "id": "6f981b9f",
   "metadata": {
    "scrolled": true
   },
   "outputs": [
    {
     "name": "stdout",
     "output_type": "stream",
     "text": [
      "************************Solutions************************\n",
      " \t\tingredient\t\tproduct \t\t \t\tweight (kg)\n",
      "x\t\t1       \t\t1       \t\t=\t\t750     \n",
      "x\t\t1       \t\t2       \t\t=\t\t100     \n",
      "x\t\t1       \t\t3       \t\t=\t\t150     \n",
      "x\t\t2       \t\t1       \t\t=\t\t1500    \n",
      "x\t\t2       \t\t2       \t\t=\t\t200     \n",
      "x\t\t2       \t\t3       \t\t=\t\t200     \n",
      "x\t\t3       \t\t1       \t\t=\t\t250     \n",
      "x\t\t3       \t\t2       \t\t=\t\t700     \n",
      "x\t\t3       \t\t3       \t\t=\t\t150     \n"
     ]
    }
   ],
   "source": [
    "solution = model.X\n",
    "print(\"************************Solutions************************\")\n",
    "s= np.array(solution).reshape(M,N)\n",
    "print('{0:<1}\\t\\t{1:<8}\\t\\t{2:<8}\\t\\t{3:<1}\\t\\t{4:<8}'.format('','ingredient','product','','weight (kg)'))\n",
    "for i in range(0,M):\n",
    "    for j in range(0,N):\n",
    "        #print(\"{} {} {} = {}\".format('x',i+1,j+1,round(s[i,j])))\n",
    "        print((\"{0:<1}\\t\\t{1:<8}\\t\\t{2:<8}\\t\\t{3:<1}\\t\\t{4:<8}\").format(\"x\",i+1,j+1,'=',round(s[i,j]),2))      "
   ]
  }
 ],
 "metadata": {
  "kernelspec": {
   "display_name": "Python 3 (ipykernel)",
   "language": "python",
   "name": "python3"
  },
  "language_info": {
   "codemirror_mode": {
    "name": "ipython",
    "version": 3
   },
   "file_extension": ".py",
   "mimetype": "text/x-python",
   "name": "python",
   "nbconvert_exporter": "python",
   "pygments_lexer": "ipython3",
   "version": "3.9.5"
  }
 },
 "nbformat": 4,
 "nbformat_minor": 5
}
